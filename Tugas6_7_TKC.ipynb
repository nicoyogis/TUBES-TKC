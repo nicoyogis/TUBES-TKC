{
  "nbformat": 4,
  "nbformat_minor": 0,
  "metadata": {
    "colab": {
      "name": "Tugas6_7_TKC.ipynb",
      "provenance": [],
      "collapsed_sections": [],
      "include_colab_link": true
    },
    "kernelspec": {
      "display_name": "gputest",
      "language": "python",
      "name": "gputest"
    },
    "language_info": {
      "codemirror_mode": {
        "name": "ipython",
        "version": 3
      },
      "file_extension": ".py",
      "mimetype": "text/x-python",
      "name": "python",
      "nbconvert_exporter": "python",
      "pygments_lexer": "ipython3",
      "version": "3.9.7"
    }
  },
  "cells": [
    {
      "cell_type": "markdown",
      "metadata": {
        "id": "view-in-github",
        "colab_type": "text"
      },
      "source": [
        "<a href=\"https://colab.research.google.com/github/nicoyogis/TUBES-TKC/blob/main/Tugas6_7_TKC.ipynb\" target=\"_parent\"><img src=\"https://colab.research.google.com/assets/colab-badge.svg\" alt=\"Open In Colab\"/></a>"
      ]
    },
    {
      "cell_type": "code",
      "metadata": {
        "id": "XdnRTOvSz6hf"
      },
      "source": [
        "import cv2\n",
        "import numpy as np\n",
        "import json\n",
        "import os  # Create directories, list files\n",
        "import zipfile\n",
        "import shutil\n",
        "import matplotlib.pyplot as plt\n",
        "import matplotlib.image as mping\n",
        "from tensorflow.keras.utils import to_categorical\n",
        "from tensorflow.keras.models import Sequential\n",
        "from tensorflow.keras.layers import InputLayer, Dense, Conv2D, MaxPool2D, Dropout, Flatten, BatchNormalization \n",
        "from tensorflow.keras.optimizers import Adam, RMSprop\n",
        "from tensorflow.keras.optimizers import SGD\n",
        "from sklearn.metrics import classification_report, confusion_matrix\n",
        "from mlxtend.plotting import plot_confusion_matrix\n",
        "import time"
      ],
      "execution_count": null,
      "outputs": []
    },
    {
      "cell_type": "code",
      "metadata": {
        "id": "ymi7XOK9z_Eq"
      },
      "source": [
        "input_folder=\"dataset\"\n",
        "base_dir=\"dataset_split\""
      ],
      "execution_count": null,
      "outputs": []
    },
    {
      "cell_type": "code",
      "metadata": {
        "id": "hlO1EkwB0BSg"
      },
      "source": [
        "import splitfolders\n",
        "splitfolders.ratio(input= input_folder, output= base_dir, seed=1337, ratio=(0.8, 0.19, 0.01))"
      ],
      "execution_count": null,
      "outputs": []
    },
    {
      "cell_type": "code",
      "metadata": {
        "id": "RmVMuGkr0Er4"
      },
      "source": [
        "import os\n",
        "Train = os.path.join(base_dir, 'Train')\n",
        "Test = os.path.join(base_dir, 'Test')\n",
        "Val = os.path.join(base_dir, 'Val')"
      ],
      "execution_count": null,
      "outputs": []
    },
    {
      "cell_type": "code",
      "metadata": {
        "id": "pLgVTPcemJ18",
        "outputId": "ec0a4e5b-0244-4332-f2db-6e6a550d9271"
      },
      "source": [
        "file_train_effusion = os.listdir(Train + \"/Effusion\")\n",
        "file_train_normal = os.listdir(Train + \"/Normal\")\n",
        "file_train_tube = os.listdir(Train + \"/Tube\")\n",
        "\n",
        "file_val_effusion = os.listdir(Val + \"/Effusion\")\n",
        "file_val_normal = os.listdir(Val + \"/Normal\")\n",
        "file_val_tube = os.listdir(Val + \"/Tube\")\n",
        "\n",
        "file_test_effusion = os.listdir(Test + \"/Effusion\")\n",
        "file_test_normal = os.listdir(Test + \"/Normal\")\n",
        "file_test_tube = os.listdir(Test + \"/Tube\")\n",
        "\n",
        "\n",
        "print(\"total training Effusion: \" + str(len(file_train_effusion)))\n",
        "print(\"total training Normal : \" + str(len(file_train_normal)))\n",
        "print(\"total training Tube : \" + str(len(file_train_tube)))\n",
        "\n",
        "print(\"total val Effusion : \" + str(len(file_val_effusion)))\n",
        "print(\"total val Normal : \" + str(len(file_val_normal)))\n",
        "print(\"total val Tube  : \" + str(len(file_val_tube)))\n",
        "\n",
        "print(\"total test Effusion : \" + str(len(file_test_effusion)))\n",
        "print(\"total test Normal : \" + str(len(file_test_normal)))\n",
        "print(\"total test Tube : \" + str(len(file_test_tube)))"
      ],
      "execution_count": null,
      "outputs": [
        {
          "name": "stdout",
          "output_type": "stream",
          "text": [
            "total training Effusion: 144\n",
            "total training Normal : 144\n",
            "total training Tube : 77\n",
            "total val Effusion : 34\n",
            "total val Normal : 34\n",
            "total val Tube  : 18\n",
            "total test Effusion : 2\n",
            "total test Normal : 2\n",
            "total test Tube : 2\n"
          ]
        }
      ]
    },
    {
      "cell_type": "code",
      "metadata": {
        "id": "8UulVCRf0KsK"
      },
      "source": [
        "# define generator\n",
        "from tensorflow.keras.preprocessing.image import ImageDataGenerator\n",
        "train_gen = ImageDataGenerator(\n",
        "    \n",
        "  #  shear_range = 0.2,\n",
        "  #  zoom_range=0.2,\n",
        "  #  horizontal_flip=True,\n",
        "  #  vertical_flip=True,\n",
        "  #  rotation_range=20,\n",
        "  #  width_shift_range=0.2,\n",
        "  #  height_shift_range=0.2,\n",
        "    rescale = 1./255,\n",
        "    rotation_range=20, \n",
        "    width_shift_range=0.1, \n",
        "    height_shift_range=0.1, \n",
        "    shear_range=0.2, \n",
        "    zoom_range=0.2, horizontal_flip=True, \n",
        "    vertical_flip=True\n",
        "    \n",
        ")\n",
        "\n",
        "val_gen = ImageDataGenerator(rescale = 1./255)"
      ],
      "execution_count": null,
      "outputs": []
    },
    {
      "cell_type": "code",
      "metadata": {
        "id": "3znc9NoZmJ2A"
      },
      "source": [
        "test_gen = ImageDataGenerator(rescale = 1./255)"
      ],
      "execution_count": null,
      "outputs": []
    },
    {
      "cell_type": "code",
      "metadata": {
        "id": "5mE8x0tA0N4L"
      },
      "source": [
        "batch_size = 8"
      ],
      "execution_count": null,
      "outputs": []
    },
    {
      "cell_type": "code",
      "metadata": {
        "colab": {
          "base_uri": "https://localhost:8080/"
        },
        "id": "Y1HsL86Z0RNX",
        "outputId": "bfcc7756-641b-4086-da6a-d9ad6d455920"
      },
      "source": [
        "train_generator = train_gen.flow_from_directory(\n",
        "    Train,\n",
        "    target_size=(150, 150),\n",
        "    class_mode='categorical',\n",
        "    color_mode=\"rgb\",\n",
        "    shuffle=True,\n",
        "    batch_size=batch_size\n",
        ")\n",
        "\n",
        "validation_generator = val_gen.flow_from_directory(\n",
        "    Val,\n",
        "    target_size=(150,150),\n",
        "    class_mode='categorical',\n",
        "    color_mode=\"rgb\",\n",
        "    shuffle=False,\n",
        "    batch_size=batch_size\n",
        ")\n",
        "\n",
        "test_generator = test_gen.flow_from_directory(\n",
        "    Val,\n",
        "    target_size=(150,150),\n",
        "    class_mode='categorical',\n",
        "    color_mode=\"rgb\",\n",
        "    shuffle=False,\n",
        "    batch_size=batch_size\n",
        ")"
      ],
      "execution_count": null,
      "outputs": [
        {
          "name": "stdout",
          "output_type": "stream",
          "text": [
            "Found 364 images belonging to 3 classes.\n",
            "Found 84 images belonging to 3 classes.\n",
            "Found 84 images belonging to 3 classes.\n"
          ]
        }
      ]
    },
    {
      "cell_type": "code",
      "metadata": {
        "colab": {
          "base_uri": "https://localhost:8080/"
        },
        "id": "vqprkoVs0TS_",
        "outputId": "a882cdb8-e1d5-4619-99b0-b28beac63031"
      },
      "source": [
        "train_generator.class_indices\n",
        "validation_generator.class_indices"
      ],
      "execution_count": null,
      "outputs": [
        {
          "data": {
            "text/plain": [
              "{'Effusion': 0, 'Normal': 1, 'Tube': 2}"
            ]
          },
          "execution_count": 10,
          "metadata": {},
          "output_type": "execute_result"
        }
      ]
    },
    {
      "cell_type": "code",
      "metadata": {
        "id": "ja_MrAzU52Lu"
      },
      "source": [
        "# Feature Extraction Layer\n",
        "model2 = Sequential()\n",
        "\n",
        "model2.add(InputLayer(input_shape=[150,150,3]))\n",
        "\n",
        "model2.add(Conv2D(filters=8, kernel_size=3, strides=1,  padding='same', activation='relu'))\n",
        "model2.add(BatchNormalization())\n",
        "model2.add(MaxPool2D(pool_size=2, padding='same'))\n",
        "\n",
        "\n",
        "model2.add(Conv2D(filters=16, kernel_size=3, strides=1,  padding='same', activation='relu'))\n",
        "model2.add(BatchNormalization())\n",
        "model2.add(MaxPool2D(pool_size=2, padding='same'))\n",
        "\n",
        "\n",
        "model2.add(Conv2D(filters=32, kernel_size=3, strides=1, padding='same', activation='relu'))\n",
        "model2.add(BatchNormalization())\n",
        "model2.add(MaxPool2D(pool_size=2, padding='same'))\n",
        "\n",
        "\n",
        "model2.add(Conv2D(filters=64, kernel_size=3, strides=1, padding='same', activation='relu'))\n",
        "model2.add(BatchNormalization())\n",
        "model2.add(MaxPool2D(pool_size=2, padding='same'))\n",
        "\n",
        "\n",
        "model2.add(Conv2D(filters=128, kernel_size=3, strides=1, padding='same', activation='relu'))\n",
        "model2.add(BatchNormalization())\n",
        "model2.add(MaxPool2D(pool_size=2, padding='same'))\n",
        "\n",
        "\n",
        "model2.add(Conv2D(filters=256, kernel_size=3, strides=1, padding='same', activation='relu'))\n",
        "model2.add(BatchNormalization())\n",
        "model2.add(MaxPool2D(pool_size=2, padding='same'))\n",
        "\n"
      ],
      "execution_count": null,
      "outputs": []
    },
    {
      "cell_type": "code",
      "metadata": {
        "id": "YpsiXXcUQXMB"
      },
      "source": [
        "model2.add(Flatten())"
      ],
      "execution_count": null,
      "outputs": []
    },
    {
      "cell_type": "code",
      "metadata": {
        "id": "MZQWB6IGQ885"
      },
      "source": [
        "# Fully Connected Layer\n",
        "model2.add(Dense(128, activation='relu')) #hidden\n",
        "model2.add(Dropout(0.5))\n",
        "model2.add(Dense(256, activation='relu'))\n",
        "model2.add(Dropout(0.5))\n",
        "model2.add(Dense(3, activation='softmax'))"
      ],
      "execution_count": null,
      "outputs": []
    },
    {
      "cell_type": "code",
      "metadata": {
        "id": "xFaWoTz-QYQg"
      },
      "source": [
        "# Compile model 1\n",
        "model2.compile(optimizer= Adam(learning_rate=0.0001),\n",
        "              loss='categorical_crossentropy', \n",
        "              metrics=['accuracy'])"
      ],
      "execution_count": null,
      "outputs": []
    },
    {
      "cell_type": "code",
      "metadata": {
        "colab": {
          "base_uri": "https://localhost:8080/"
        },
        "id": "XzeEOhFmQdeM",
        "outputId": "867e7506-f416-4a06-f2bb-4cd422ee8a4a"
      },
      "source": [
        "# Print model summary\n",
        "print(model2.summary())"
      ],
      "execution_count": null,
      "outputs": [
        {
          "name": "stdout",
          "output_type": "stream",
          "text": [
            "Model: \"sequential\"\n",
            "_________________________________________________________________\n",
            " Layer (type)                Output Shape              Param #   \n",
            "=================================================================\n",
            " conv2d (Conv2D)             (None, 150, 150, 8)       224       \n",
            "                                                                 \n",
            " batch_normalization (BatchN  (None, 150, 150, 8)      32        \n",
            " ormalization)                                                   \n",
            "                                                                 \n",
            " max_pooling2d (MaxPooling2D  (None, 75, 75, 8)        0         \n",
            " )                                                               \n",
            "                                                                 \n",
            " conv2d_1 (Conv2D)           (None, 75, 75, 16)        1168      \n",
            "                                                                 \n",
            " batch_normalization_1 (Batc  (None, 75, 75, 16)       64        \n",
            " hNormalization)                                                 \n",
            "                                                                 \n",
            " max_pooling2d_1 (MaxPooling  (None, 38, 38, 16)       0         \n",
            " 2D)                                                             \n",
            "                                                                 \n",
            " conv2d_2 (Conv2D)           (None, 38, 38, 32)        4640      \n",
            "                                                                 \n",
            " batch_normalization_2 (Batc  (None, 38, 38, 32)       128       \n",
            " hNormalization)                                                 \n",
            "                                                                 \n",
            " max_pooling2d_2 (MaxPooling  (None, 19, 19, 32)       0         \n",
            " 2D)                                                             \n",
            "                                                                 \n",
            " conv2d_3 (Conv2D)           (None, 19, 19, 64)        18496     \n",
            "                                                                 \n",
            " batch_normalization_3 (Batc  (None, 19, 19, 64)       256       \n",
            " hNormalization)                                                 \n",
            "                                                                 \n",
            " max_pooling2d_3 (MaxPooling  (None, 10, 10, 64)       0         \n",
            " 2D)                                                             \n",
            "                                                                 \n",
            " conv2d_4 (Conv2D)           (None, 10, 10, 128)       73856     \n",
            "                                                                 \n",
            " batch_normalization_4 (Batc  (None, 10, 10, 128)      512       \n",
            " hNormalization)                                                 \n",
            "                                                                 \n",
            " max_pooling2d_4 (MaxPooling  (None, 5, 5, 128)        0         \n",
            " 2D)                                                             \n",
            "                                                                 \n",
            " conv2d_5 (Conv2D)           (None, 5, 5, 256)         295168    \n",
            "                                                                 \n",
            " batch_normalization_5 (Batc  (None, 5, 5, 256)        1024      \n",
            " hNormalization)                                                 \n",
            "                                                                 \n",
            " max_pooling2d_5 (MaxPooling  (None, 3, 3, 256)        0         \n",
            " 2D)                                                             \n",
            "                                                                 \n",
            " flatten (Flatten)           (None, 2304)              0         \n",
            "                                                                 \n",
            " dense (Dense)               (None, 128)               295040    \n",
            "                                                                 \n",
            " dropout (Dropout)           (None, 128)               0         \n",
            "                                                                 \n",
            " dense_1 (Dense)             (None, 256)               33024     \n",
            "                                                                 \n",
            " dropout_1 (Dropout)         (None, 256)               0         \n",
            "                                                                 \n",
            " dense_2 (Dense)             (None, 3)                 771       \n",
            "                                                                 \n",
            "=================================================================\n",
            "Total params: 724,403\n",
            "Trainable params: 723,395\n",
            "Non-trainable params: 1,008\n",
            "_________________________________________________________________\n",
            "None\n"
          ]
        }
      ]
    },
    {
      "cell_type": "code",
      "metadata": {
        "colab": {
          "base_uri": "https://localhost:8080/"
        },
        "id": "LR0Bgq4TQnSH",
        "outputId": "72253e3c-d88d-4c74-8d84-f0d99be72361"
      },
      "source": [
        "H2 = model2.fit(train_generator, epochs=100, validation_data = validation_generator,validation_steps = len(validation_generator))"
      ],
      "execution_count": null,
      "outputs": [
        {
          "name": "stdout",
          "output_type": "stream",
          "text": [
            "Epoch 1/100\n",
            "46/46 [==============================] - 9s 124ms/step - loss: 1.4673 - accuracy: 0.4231 - val_loss: 1.0960 - val_accuracy: 0.3929\n",
            "Epoch 2/100\n",
            "46/46 [==============================] - 4s 78ms/step - loss: 1.0549 - accuracy: 0.5110 - val_loss: 1.2407 - val_accuracy: 0.3929\n",
            "Epoch 3/100\n",
            "46/46 [==============================] - 3s 75ms/step - loss: 1.0602 - accuracy: 0.5247 - val_loss: 1.4832 - val_accuracy: 0.3929\n",
            "Epoch 4/100\n",
            "46/46 [==============================] - 3s 76ms/step - loss: 0.9453 - accuracy: 0.5742 - val_loss: 1.9987 - val_accuracy: 0.3929\n",
            "Epoch 5/100\n",
            "46/46 [==============================] - 4s 77ms/step - loss: 0.9072 - accuracy: 0.5962 - val_loss: 2.2776 - val_accuracy: 0.3929\n",
            "Epoch 6/100\n",
            "46/46 [==============================] - 4s 76ms/step - loss: 0.8909 - accuracy: 0.6071 - val_loss: 2.1797 - val_accuracy: 0.3929\n",
            "Epoch 7/100\n",
            "46/46 [==============================] - 4s 77ms/step - loss: 0.8168 - accuracy: 0.6319 - val_loss: 2.4010 - val_accuracy: 0.3929\n",
            "Epoch 8/100\n",
            "46/46 [==============================] - 4s 77ms/step - loss: 0.9051 - accuracy: 0.6264 - val_loss: 1.8501 - val_accuracy: 0.4167\n",
            "Epoch 9/100\n",
            "46/46 [==============================] - 4s 78ms/step - loss: 0.7919 - accuracy: 0.6429 - val_loss: 1.4476 - val_accuracy: 0.4881\n",
            "Epoch 10/100\n",
            "46/46 [==============================] - 4s 77ms/step - loss: 0.8187 - accuracy: 0.6566 - val_loss: 1.1566 - val_accuracy: 0.5714\n",
            "Epoch 11/100\n",
            "46/46 [==============================] - 4s 77ms/step - loss: 0.8183 - accuracy: 0.6346 - val_loss: 0.7415 - val_accuracy: 0.6667\n",
            "Epoch 12/100\n",
            "46/46 [==============================] - 4s 78ms/step - loss: 0.7810 - accuracy: 0.6676 - val_loss: 0.5158 - val_accuracy: 0.7857\n",
            "Epoch 13/100\n",
            "46/46 [==============================] - 4s 78ms/step - loss: 0.7432 - accuracy: 0.6841 - val_loss: 0.4771 - val_accuracy: 0.8333\n",
            "Epoch 14/100\n",
            "46/46 [==============================] - 4s 79ms/step - loss: 0.7012 - accuracy: 0.6978 - val_loss: 0.4851 - val_accuracy: 0.8214\n",
            "Epoch 15/100\n",
            "46/46 [==============================] - 4s 91ms/step - loss: 0.6848 - accuracy: 0.7088 - val_loss: 0.4831 - val_accuracy: 0.8095\n",
            "Epoch 16/100\n",
            "46/46 [==============================] - 4s 79ms/step - loss: 0.6745 - accuracy: 0.7115 - val_loss: 0.5245 - val_accuracy: 0.8095\n",
            "Epoch 17/100\n",
            "46/46 [==============================] - 4s 79ms/step - loss: 0.6776 - accuracy: 0.7060 - val_loss: 0.4748 - val_accuracy: 0.8452\n",
            "Epoch 18/100\n",
            "46/46 [==============================] - 4s 78ms/step - loss: 0.6731 - accuracy: 0.6923 - val_loss: 0.4581 - val_accuracy: 0.8452\n",
            "Epoch 19/100\n",
            "46/46 [==============================] - 5s 98ms/step - loss: 0.7629 - accuracy: 0.6868 - val_loss: 0.5146 - val_accuracy: 0.8333\n",
            "Epoch 20/100\n",
            "46/46 [==============================] - 4s 95ms/step - loss: 0.6479 - accuracy: 0.7280 - val_loss: 0.5157 - val_accuracy: 0.8333\n",
            "Epoch 21/100\n",
            "46/46 [==============================] - 4s 89ms/step - loss: 0.6473 - accuracy: 0.7280 - val_loss: 0.5632 - val_accuracy: 0.7619\n",
            "Epoch 22/100\n",
            "46/46 [==============================] - 4s 86ms/step - loss: 0.7152 - accuracy: 0.6868 - val_loss: 0.4374 - val_accuracy: 0.8214\n",
            "Epoch 23/100\n",
            "46/46 [==============================] - 4s 79ms/step - loss: 0.6628 - accuracy: 0.7170 - val_loss: 0.4380 - val_accuracy: 0.8333\n",
            "Epoch 24/100\n",
            "46/46 [==============================] - 4s 79ms/step - loss: 0.5790 - accuracy: 0.7747 - val_loss: 0.4104 - val_accuracy: 0.8452\n",
            "Epoch 25/100\n",
            "46/46 [==============================] - 5s 112ms/step - loss: 0.6367 - accuracy: 0.7418 - val_loss: 0.4464 - val_accuracy: 0.8452\n",
            "Epoch 26/100\n",
            "46/46 [==============================] - 4s 95ms/step - loss: 0.5852 - accuracy: 0.7335 - val_loss: 0.4532 - val_accuracy: 0.8452\n",
            "Epoch 27/100\n",
            "46/46 [==============================] - 4s 79ms/step - loss: 0.6076 - accuracy: 0.7473 - val_loss: 0.4723 - val_accuracy: 0.8333\n",
            "Epoch 28/100\n",
            "46/46 [==============================] - 4s 79ms/step - loss: 0.6955 - accuracy: 0.7033 - val_loss: 0.4599 - val_accuracy: 0.8571\n",
            "Epoch 29/100\n",
            "46/46 [==============================] - 4s 78ms/step - loss: 0.5856 - accuracy: 0.7775 - val_loss: 0.4504 - val_accuracy: 0.8571\n",
            "Epoch 30/100\n",
            "46/46 [==============================] - 4s 80ms/step - loss: 0.6125 - accuracy: 0.7390 - val_loss: 0.3701 - val_accuracy: 0.8810\n",
            "Epoch 31/100\n",
            "46/46 [==============================] - 4s 82ms/step - loss: 0.5886 - accuracy: 0.7692 - val_loss: 0.4396 - val_accuracy: 0.8333\n",
            "Epoch 32/100\n",
            "46/46 [==============================] - 4s 78ms/step - loss: 0.5392 - accuracy: 0.8132 - val_loss: 0.3842 - val_accuracy: 0.8690\n",
            "Epoch 33/100\n",
            "46/46 [==============================] - 4s 78ms/step - loss: 0.5142 - accuracy: 0.8022 - val_loss: 0.4621 - val_accuracy: 0.8214\n",
            "Epoch 34/100\n",
            "46/46 [==============================] - 4s 78ms/step - loss: 0.5631 - accuracy: 0.7857 - val_loss: 0.4390 - val_accuracy: 0.8690\n",
            "Epoch 35/100\n",
            "46/46 [==============================] - 4s 80ms/step - loss: 0.5506 - accuracy: 0.7747 - val_loss: 0.3894 - val_accuracy: 0.8810\n",
            "Epoch 36/100\n",
            "46/46 [==============================] - 4s 80ms/step - loss: 0.5729 - accuracy: 0.7747 - val_loss: 0.3657 - val_accuracy: 0.8690\n",
            "Epoch 37/100\n",
            "46/46 [==============================] - 4s 87ms/step - loss: 0.5221 - accuracy: 0.7995 - val_loss: 0.3915 - val_accuracy: 0.8452\n",
            "Epoch 38/100\n",
            "46/46 [==============================] - 4s 81ms/step - loss: 0.5758 - accuracy: 0.7885 - val_loss: 0.3558 - val_accuracy: 0.8810\n",
            "Epoch 39/100\n",
            "46/46 [==============================] - 4s 85ms/step - loss: 0.5332 - accuracy: 0.7940 - val_loss: 0.3768 - val_accuracy: 0.8690\n",
            "Epoch 40/100\n",
            "46/46 [==============================] - 4s 82ms/step - loss: 0.5707 - accuracy: 0.7665 - val_loss: 0.3589 - val_accuracy: 0.8810\n",
            "Epoch 41/100\n",
            "46/46 [==============================] - 4s 82ms/step - loss: 0.5413 - accuracy: 0.8049 - val_loss: 0.3740 - val_accuracy: 0.9048\n",
            "Epoch 42/100\n",
            "46/46 [==============================] - 4s 81ms/step - loss: 0.5355 - accuracy: 0.8049 - val_loss: 0.3306 - val_accuracy: 0.8929\n",
            "Epoch 43/100\n",
            "46/46 [==============================] - 4s 80ms/step - loss: 0.4897 - accuracy: 0.8407 - val_loss: 0.3311 - val_accuracy: 0.8810\n",
            "Epoch 44/100\n",
            "46/46 [==============================] - 4s 85ms/step - loss: 0.4292 - accuracy: 0.8352 - val_loss: 0.3442 - val_accuracy: 0.8929\n",
            "Epoch 45/100\n",
            "46/46 [==============================] - 4s 84ms/step - loss: 0.5039 - accuracy: 0.8324 - val_loss: 0.3506 - val_accuracy: 0.8452\n",
            "Epoch 46/100\n",
            "46/46 [==============================] - 4s 84ms/step - loss: 0.5236 - accuracy: 0.7885 - val_loss: 0.3906 - val_accuracy: 0.8452\n",
            "Epoch 47/100\n",
            "46/46 [==============================] - 4s 86ms/step - loss: 0.4987 - accuracy: 0.8187 - val_loss: 0.3156 - val_accuracy: 0.9048\n",
            "Epoch 48/100\n",
            "46/46 [==============================] - 4s 87ms/step - loss: 0.4671 - accuracy: 0.8269 - val_loss: 0.4011 - val_accuracy: 0.8810\n",
            "Epoch 49/100\n",
            "46/46 [==============================] - 4s 95ms/step - loss: 0.4285 - accuracy: 0.8516 - val_loss: 0.3906 - val_accuracy: 0.8214\n",
            "Epoch 50/100\n",
            "46/46 [==============================] - 4s 89ms/step - loss: 0.4469 - accuracy: 0.8379 - val_loss: 0.4044 - val_accuracy: 0.8214\n",
            "Epoch 51/100\n",
            "46/46 [==============================] - 4s 88ms/step - loss: 0.4254 - accuracy: 0.8297 - val_loss: 0.3746 - val_accuracy: 0.8929\n",
            "Epoch 52/100\n",
            "46/46 [==============================] - 4s 91ms/step - loss: 0.5241 - accuracy: 0.8132 - val_loss: 0.3272 - val_accuracy: 0.9405\n",
            "Epoch 53/100\n",
            "46/46 [==============================] - 4s 83ms/step - loss: 0.3995 - accuracy: 0.8434 - val_loss: 0.3835 - val_accuracy: 0.9405\n",
            "Epoch 54/100\n",
            "46/46 [==============================] - 4s 90ms/step - loss: 0.4126 - accuracy: 0.8489 - val_loss: 0.4297 - val_accuracy: 0.9167\n",
            "Epoch 55/100\n",
            "46/46 [==============================] - 4s 86ms/step - loss: 0.4254 - accuracy: 0.8434 - val_loss: 0.3381 - val_accuracy: 0.9167\n",
            "Epoch 56/100\n",
            "46/46 [==============================] - 4s 85ms/step - loss: 0.4175 - accuracy: 0.8489 - val_loss: 0.3049 - val_accuracy: 0.8810\n",
            "Epoch 57/100\n",
            "46/46 [==============================] - 4s 86ms/step - loss: 0.4299 - accuracy: 0.8269 - val_loss: 0.4459 - val_accuracy: 0.8333\n",
            "Epoch 58/100\n"
          ]
        },
        {
          "name": "stdout",
          "output_type": "stream",
          "text": [
            "46/46 [==============================] - 4s 83ms/step - loss: 0.3968 - accuracy: 0.8434 - val_loss: 0.3602 - val_accuracy: 0.8810\n",
            "Epoch 59/100\n",
            "46/46 [==============================] - 4s 82ms/step - loss: 0.3735 - accuracy: 0.8462 - val_loss: 0.3525 - val_accuracy: 0.8929\n",
            "Epoch 60/100\n",
            "46/46 [==============================] - 4s 82ms/step - loss: 0.3705 - accuracy: 0.8462 - val_loss: 0.3303 - val_accuracy: 0.9167\n",
            "Epoch 61/100\n",
            "46/46 [==============================] - 4s 81ms/step - loss: 0.4081 - accuracy: 0.8407 - val_loss: 0.3481 - val_accuracy: 0.9167\n",
            "Epoch 62/100\n",
            "46/46 [==============================] - 4s 84ms/step - loss: 0.3815 - accuracy: 0.8489 - val_loss: 0.3710 - val_accuracy: 0.8810\n",
            "Epoch 63/100\n",
            "46/46 [==============================] - 4s 83ms/step - loss: 0.4128 - accuracy: 0.8626 - val_loss: 0.3386 - val_accuracy: 0.9167\n",
            "Epoch 64/100\n",
            "46/46 [==============================] - 4s 83ms/step - loss: 0.3774 - accuracy: 0.8489 - val_loss: 0.2992 - val_accuracy: 0.9048\n",
            "Epoch 65/100\n",
            "46/46 [==============================] - 4s 83ms/step - loss: 0.3350 - accuracy: 0.8736 - val_loss: 0.3604 - val_accuracy: 0.9048\n",
            "Epoch 66/100\n",
            "46/46 [==============================] - 4s 83ms/step - loss: 0.3974 - accuracy: 0.8654 - val_loss: 0.3722 - val_accuracy: 0.9167\n",
            "Epoch 67/100\n",
            "46/46 [==============================] - 4s 83ms/step - loss: 0.3895 - accuracy: 0.8516 - val_loss: 0.3469 - val_accuracy: 0.9286\n",
            "Epoch 68/100\n",
            "46/46 [==============================] - 4s 83ms/step - loss: 0.3634 - accuracy: 0.8654 - val_loss: 0.3111 - val_accuracy: 0.9048\n",
            "Epoch 69/100\n",
            "46/46 [==============================] - 4s 82ms/step - loss: 0.3404 - accuracy: 0.8626 - val_loss: 0.2474 - val_accuracy: 0.9286\n",
            "Epoch 70/100\n",
            "46/46 [==============================] - 4s 82ms/step - loss: 0.3347 - accuracy: 0.8791 - val_loss: 0.3039 - val_accuracy: 0.9048\n",
            "Epoch 71/100\n",
            "46/46 [==============================] - 4s 83ms/step - loss: 0.3855 - accuracy: 0.8489 - val_loss: 0.3325 - val_accuracy: 0.8929\n",
            "Epoch 72/100\n",
            "46/46 [==============================] - 4s 81ms/step - loss: 0.2673 - accuracy: 0.9121 - val_loss: 0.3297 - val_accuracy: 0.9405\n",
            "Epoch 73/100\n",
            "46/46 [==============================] - 4s 82ms/step - loss: 0.4269 - accuracy: 0.8352 - val_loss: 0.3058 - val_accuracy: 0.9405\n",
            "Epoch 74/100\n",
            "46/46 [==============================] - 4s 82ms/step - loss: 0.4091 - accuracy: 0.8626 - val_loss: 0.3268 - val_accuracy: 0.8810\n",
            "Epoch 75/100\n",
            "46/46 [==============================] - 4s 82ms/step - loss: 0.4052 - accuracy: 0.8489 - val_loss: 0.3426 - val_accuracy: 0.9048\n",
            "Epoch 76/100\n",
            "46/46 [==============================] - 4s 80ms/step - loss: 0.3858 - accuracy: 0.8626 - val_loss: 0.3016 - val_accuracy: 0.9167\n",
            "Epoch 77/100\n",
            "46/46 [==============================] - 4s 82ms/step - loss: 0.3890 - accuracy: 0.8462 - val_loss: 0.3582 - val_accuracy: 0.8929\n",
            "Epoch 78/100\n",
            "46/46 [==============================] - 4s 81ms/step - loss: 0.3300 - accuracy: 0.8681 - val_loss: 0.3002 - val_accuracy: 0.9048\n",
            "Epoch 79/100\n",
            "46/46 [==============================] - 4s 81ms/step - loss: 0.3297 - accuracy: 0.8819 - val_loss: 0.3758 - val_accuracy: 0.9048\n",
            "Epoch 80/100\n",
            "46/46 [==============================] - 4s 81ms/step - loss: 0.3323 - accuracy: 0.8764 - val_loss: 0.2316 - val_accuracy: 0.9286\n",
            "Epoch 81/100\n",
            "46/46 [==============================] - 4s 82ms/step - loss: 0.2636 - accuracy: 0.9038 - val_loss: 0.3301 - val_accuracy: 0.8929\n",
            "Epoch 82/100\n",
            "46/46 [==============================] - 4s 80ms/step - loss: 0.2565 - accuracy: 0.8929 - val_loss: 0.5192 - val_accuracy: 0.8214\n",
            "Epoch 83/100\n",
            "46/46 [==============================] - 4s 81ms/step - loss: 0.3214 - accuracy: 0.8929 - val_loss: 0.4331 - val_accuracy: 0.8452\n",
            "Epoch 84/100\n",
            "46/46 [==============================] - 4s 81ms/step - loss: 0.2925 - accuracy: 0.8874 - val_loss: 0.5397 - val_accuracy: 0.8333\n",
            "Epoch 85/100\n",
            "46/46 [==============================] - 4s 81ms/step - loss: 0.3708 - accuracy: 0.8901 - val_loss: 0.4271 - val_accuracy: 0.8333\n",
            "Epoch 86/100\n",
            "46/46 [==============================] - 4s 83ms/step - loss: 0.3382 - accuracy: 0.8654 - val_loss: 0.3295 - val_accuracy: 0.8929\n",
            "Epoch 87/100\n",
            "46/46 [==============================] - 4s 81ms/step - loss: 0.3416 - accuracy: 0.8819 - val_loss: 0.3959 - val_accuracy: 0.8571\n",
            "Epoch 88/100\n",
            "46/46 [==============================] - 4s 82ms/step - loss: 0.3194 - accuracy: 0.8819 - val_loss: 0.2928 - val_accuracy: 0.8810\n",
            "Epoch 89/100\n",
            "46/46 [==============================] - 4s 82ms/step - loss: 0.2786 - accuracy: 0.9011 - val_loss: 0.2681 - val_accuracy: 0.9048\n",
            "Epoch 90/100\n",
            "46/46 [==============================] - 4s 81ms/step - loss: 0.2677 - accuracy: 0.8929 - val_loss: 0.3287 - val_accuracy: 0.9286\n",
            "Epoch 91/100\n",
            "46/46 [==============================] - 4s 80ms/step - loss: 0.3543 - accuracy: 0.8764 - val_loss: 0.3778 - val_accuracy: 0.8929\n",
            "Epoch 92/100\n",
            "46/46 [==============================] - 4s 79ms/step - loss: 0.3213 - accuracy: 0.8736 - val_loss: 0.5217 - val_accuracy: 0.8214\n",
            "Epoch 93/100\n",
            "46/46 [==============================] - 4s 80ms/step - loss: 0.2536 - accuracy: 0.9038 - val_loss: 0.2979 - val_accuracy: 0.8929\n",
            "Epoch 94/100\n",
            "46/46 [==============================] - 4s 81ms/step - loss: 0.2600 - accuracy: 0.8901 - val_loss: 0.3327 - val_accuracy: 0.8929\n",
            "Epoch 95/100\n",
            "46/46 [==============================] - 4s 81ms/step - loss: 0.3503 - accuracy: 0.8709 - val_loss: 0.3583 - val_accuracy: 0.8929\n",
            "Epoch 96/100\n",
            "46/46 [==============================] - 4s 79ms/step - loss: 0.2410 - accuracy: 0.9066 - val_loss: 0.2678 - val_accuracy: 0.9286\n",
            "Epoch 97/100\n",
            "46/46 [==============================] - 4s 80ms/step - loss: 0.2819 - accuracy: 0.8984 - val_loss: 0.2560 - val_accuracy: 0.9167\n",
            "Epoch 98/100\n",
            "46/46 [==============================] - 4s 81ms/step - loss: 0.2922 - accuracy: 0.8846 - val_loss: 0.2006 - val_accuracy: 0.9405\n",
            "Epoch 99/100\n",
            "46/46 [==============================] - 4s 80ms/step - loss: 0.2805 - accuracy: 0.8791 - val_loss: 0.5402 - val_accuracy: 0.9048\n",
            "Epoch 100/100\n",
            "46/46 [==============================] - 4s 80ms/step - loss: 0.2633 - accuracy: 0.8984 - val_loss: 0.3755 - val_accuracy: 0.9167\n"
          ]
        }
      ]
    },
    {
      "cell_type": "code",
      "metadata": {
        "id": "E-AIOT5Id5WT"
      },
      "source": [
        "model2.save(\"model3.h5\")"
      ],
      "execution_count": null,
      "outputs": []
    },
    {
      "cell_type": "code",
      "metadata": {
        "colab": {
          "base_uri": "https://localhost:8080/",
          "height": 421
        },
        "id": "ysRYHgmgeHwe",
        "outputId": "73b4383c-d18e-48f4-a37b-63a929ee3e44"
      },
      "source": [
        "#plot model 1\n",
        "fig, (plt1, plt2) = plt.subplots(1,2, figsize=(20,6)) #buat bikin subplot\n",
        "\n",
        "plt1.figsize=(10,8)\n",
        "plt1.plot(np.arange(0, 100), H2.history[\"loss\"], label=\"loss\")\n",
        "plt1.plot(np.arange(0, 100), H2.history[\"val_loss\"], label=\"val_loss\")\n",
        "plt1.set_title(\"Loss Result Plot\")\n",
        "plt1.set_xlabel(\"Epoch #\")\n",
        "plt1.set_ylabel(\"Loss\")\n",
        "plt1.legend()\n",
        "\n",
        "plt2.figsize=(10,8)\n",
        "plt2.plot(np.arange(0, 100), H2.history[\"accuracy\"], label=\"acc\")\n",
        "plt2.plot(np.arange(0, 100), H2.history[\"val_accuracy\"], label=\"val_acc\")\n",
        "plt2.set_title(\"Acc Result Plot\")\n",
        "plt2.set_xlabel(\"Epoch #\")\n",
        "plt2.set_ylabel(\"Acc\")\n",
        "plt2.legend()"
      ],
      "execution_count": null,
      "outputs": [
        {
          "data": {
            "text/plain": [
              "<matplotlib.legend.Legend at 0x23e559bb7f0>"
            ]
          },
          "execution_count": 18,
          "metadata": {},
          "output_type": "execute_result"
        },
        {
          "data": {
            "image/png": "[encoded data removed]",
            "text/plain": [
              "<Figure size 1440x432 with 2 Axes>"
            ]
          },
          "metadata": {
            "needs_background": "light"
          },
          "output_type": "display_data"
        }
      ]
    },
    {
      "cell_type": "code",
      "metadata": {
        "colab": {
          "base_uri": "https://localhost:8080/"
        },
        "id": "v_5pY4MYeMDe",
        "outputId": "0d3c0f2f-9412-4452-c9b7-db551a5606d2"
      },
      "source": [
        "#Evaluasi menggunakan classification report\n",
        "%matplotlib inline\n",
        "\n",
        "import matplotlib.pyplot as plt\n",
        "import numpy as np\n",
        "from keras.models import load_model\n",
        "from sklearn.metrics import classification_report, confusion_matrix\n",
        "\n",
        "\n",
        "ypred = model2.predict(validation_generator)\n",
        "prediction2 = np.argmax(ypred, axis=1)\n",
        "print(classification_report(validation_generator.classes, prediction2))"
      ],
      "execution_count": null,
      "outputs": [
        {
          "name": "stdout",
          "output_type": "stream",
          "text": [
            "              precision    recall  f1-score   support\n",
            "\n",
            "           0       0.85      1.00      0.92        33\n",
            "           1       0.97      0.85      0.90        33\n",
            "           2       1.00      0.89      0.94        18\n",
            "\n",
            "    accuracy                           0.92        84\n",
            "   macro avg       0.94      0.91      0.92        84\n",
            "weighted avg       0.93      0.92      0.92        84\n",
            "\n"
          ]
        }
      ]
    },
    {
      "cell_type": "code",
      "metadata": {
        "colab": {
          "base_uri": "https://localhost:8080/",
          "height": 380
        },
        "id": "j9yNvlwyeXeB",
        "outputId": "0770efad-d0f1-49af-f8ca-e64b027a1131"
      },
      "source": [
        "#Evaluasi menggunakan confusion matrix\n",
        "\n",
        "import itertools\n",
        "def plot_confusion_matrix(cm, classes,\n",
        "                          normalize=False,\n",
        "                          title='Confusion matrix',\n",
        "                          cmap=plt.cm.Blues):\n",
        "    if normalize:\n",
        "        cm = cm.astype('float') / cm.sum(axis=1)[:, np.newaxis]\n",
        "        print(\"Normalized confusion matrix\")\n",
        "    else:\n",
        "        print('Confusion matrix, without normalization')\n",
        "\n",
        "    print(cm)\n",
        "\n",
        "    plt.imshow(cm, interpolation='nearest', cmap=cmap)\n",
        "    plt.title(title)\n",
        "    plt.colorbar()\n",
        "    tick_marks = np.arange(len(classes))\n",
        "    plt.xticks(tick_marks, classes, rotation=45)\n",
        "    plt.yticks(tick_marks, classes)\n",
        "\n",
        "    fmt = '.2f' if normalize else 'd'\n",
        "    thresh = cm.max() / 2.\n",
        "    for i, j in itertools.product(range(cm.shape[0]), range(cm.shape[1])):\n",
        "        plt.text(j, i, format(cm[i, j], fmt),\n",
        "                 horizontalalignment=\"center\",\n",
        "                 color=\"white\" if cm[i, j] > thresh else \"black\")\n",
        "\n",
        "    plt.tight_layout()\n",
        "    plt.ylabel('Actual')\n",
        "    plt.xlabel('Predicted')\n",
        "\n",
        "cnf_matrix=confusion_matrix(validation_generator.classes,prediction2)\n",
        "plot_confusion_matrix(cnf_matrix, classes=validation_generator.class_indices)"
      ],
      "execution_count": null,
      "outputs": [
        {
          "name": "stdout",
          "output_type": "stream",
          "text": [
            "Confusion matrix, without normalization\n",
            "[[33  0  0]\n",
            " [ 5 28  0]\n",
            " [ 1  1 16]]\n"
          ]
        },
        {
          "data": {
            "image/png": "[encoded data removed]",
            "text/plain": [
              "<Figure size 432x288 with 2 Axes>"
            ]
          },
          "metadata": {
            "needs_background": "light"
          },
          "output_type": "display_data"
        }
      ]
    },
    {
      "cell_type": "code",
      "metadata": {
        "id": "7ne2PfUlguK9"
      },
      "source": [
        ""
      ],
      "execution_count": null,
      "outputs": []
    }
  ]
}