{
  "nbformat": 4,
  "nbformat_minor": 0,
  "metadata": {
    "colab": {
      "name": "hi_detect_low_contrast.ipynb",
      "provenance": [],
      "collapsed_sections": [],
      "include_colab_link": true
    },
    "kernelspec": {
      "name": "python3",
      "display_name": "Python 3"
    },
    "language_info": {
      "name": "python"
    }
  },
  "cells": [
    {
      "cell_type": "markdown",
      "metadata": {
        "id": "view-in-github",
        "colab_type": "text"
      },
      "source": [
        "<a href=\"https://colab.research.google.com/github/nicoyogis/TUBES-TKC/blob/main/histogram/hi_detect_low_contrast.ipynb\" target=\"_parent\"><img src=\"https://colab.research.google.com/assets/colab-badge.svg\" alt=\"Open In Colab\"/></a>"
      ]
    },
    {
      "cell_type": "code",
      "metadata": {
        "id": "t7Cjbp3QQSxb"
      },
      "source": [
        "# import the necessary packages\n",
        "from skimage.exposure import is_low_contrast\n",
        "from imutils.paths import list_images\n",
        "import matplotlib.pyplot as plt\n",
        "import numpy as np\n",
        "import argparse\n",
        "import imutils\n",
        "import cv2"
      ],
      "execution_count": 1,
      "outputs": []
    },
    {
      "cell_type": "code",
      "metadata": {
        "id": "Ehl0-c3lQUbE"
      },
      "source": [
        "def plt_imshow(title, image):\n",
        "    # convert the image frame BGR to RGB color space and display it\n",
        "\timage = cv2.cvtColor(image, cv2.COLOR_BGR2RGB)\n",
        "\tplt.imshow(image)\n",
        "\tplt.title(title)\n",
        "\tplt.grid(False)\n",
        "\tplt.show()"
      ],
      "execution_count": 2,
      "outputs": []
    },
    {
      "cell_type": "code",
      "metadata": {
        "id": "Vjrhp9-8QWW7"
      },
      "source": [
        "# # construct the argument parser and parse the arguments\n",
        "# ap = argparse.ArgumentParser()\n",
        "# ap.add_argument(\"-i\", \"--input\", required=True,\n",
        "# \thelp=\"path to input directory of images\")\n",
        "# ap.add_argument(\"-t\", \"--thresh\", type=float, default=0.35,\n",
        "# \thelp=\"threshold for low contrast\")\n",
        "# args = vars(ap.parse_args())\n",
        "\n",
        "# since we are using Jupyter Notebooks we can replace our argument\n",
        "# parsing code with *hard coded* arguments and values\n",
        "args = {\n",
        "    \"input\": \"example\",\n",
        "    \"thresh\": 0.35\n",
        "}"
      ],
      "execution_count": 7,
      "outputs": []
    },
    {
      "cell_type": "code",
      "metadata": {
        "id": "BR3jSx_ZQZ3j"
      },
      "source": [
        "# grab the paths to the input images\n",
        "imagePaths = sorted(list(list_images(args[\"input\"])))\n",
        "\n",
        "# loop over the image paths\n",
        "for (i, imagePath) in enumerate(imagePaths):\n",
        "\t# load the input image from disk, resize it, and convert it to\n",
        "\t# grayscale\n",
        "\tprint(\"[INFO] processing image {}/{}\".format(i + 1,\n",
        "\t\tlen(imagePaths)))\n",
        "\timage = cv2.imread(imagePath)\n",
        "\timage = imutils.resize(image, width=450)\n",
        "\tgray = cv2.cvtColor(image, cv2.COLOR_BGR2GRAY)\n",
        "\n",
        "\t# blur the image slightly and perform edge detection\n",
        "\tblurred = cv2.GaussianBlur(gray, (5, 5), 0)\n",
        "\tedged = cv2.Canny(blurred, 30, 150)\n",
        "\n",
        "\t# initialize the text and color to indicate that the input image\n",
        "\t# is *not* low contrast\n",
        "\ttext = \"Low contrast: No\"\n",
        "\tcolor = (0, 255, 0)\n",
        "\n",
        "\t# check to see if the image is low contrast\n",
        "\tif is_low_contrast(gray, fraction_threshold=args[\"thresh\"]):\n",
        "\t\t# update the text and color\n",
        "\t\ttext = \"Low contrast: Yes\"\n",
        "\t\tcolor = (0, 0, 255)\n",
        "\n",
        "\t# otherwise, the image is *not* low contrast, so we can continue\n",
        "\t# processing it\n",
        "\telse:\n",
        "\t\t# find contours in the edge map and find the largest one,\n",
        "\t\t# which we'll assume is the outline of our color correction\n",
        "\t\t# card\n",
        "\t\tcnts = cv2.findContours(edged.copy(), cv2.RETR_EXTERNAL,\n",
        "\t\t\tcv2.CHAIN_APPROX_SIMPLE)\n",
        "\t\tcnts = imutils.grab_contours(cnts)\n",
        "\t\tc = max(cnts, key=cv2.contourArea)\n",
        "\n",
        "\t\t# draw the largest contour on the image\n",
        "\t\tcv2.drawContours(image, [c], -1, (0, 255, 0), 2)\n",
        "\n",
        "\t# draw the text on the output image\n",
        "\tcv2.putText(image, text, (5, 25), cv2.FONT_HERSHEY_SIMPLEX, 0.8,\n",
        "\t\tcolor, 2)\n",
        "\n",
        "\t# show the output image and edge map\n",
        "\tplt_imshow(\"Image\", image)\n",
        "\tplt_imshow(\"Edge\", edged)"
      ],
      "execution_count": 4,
      "outputs": []
    },
    {
      "cell_type": "markdown",
      "metadata": {
        "id": "PdtQM7hoQeg9"
      },
      "source": [
        "Implementing low contrast frame detection in real-time video streams"
      ]
    },
    {
      "cell_type": "code",
      "metadata": {
        "id": "9Pt1Vi3rQcWn"
      },
      "source": [
        "# since we are using Jupyter Notebooks we can replace our argument\n",
        "# parsing code with *hard coded* arguments and values\n",
        "args = {\n",
        "    \"input\": \"/content/pergantian siang dan malam dilangit RS Tarakan Jakarta -- RS Tarakan Jakarta.mp4\",\n",
        "    \"thresh\": 0.35,\n",
        "    \"output\": \"output.avi\"\n",
        "}"
      ],
      "execution_count": 5,
      "outputs": []
    },
    {
      "cell_type": "code",
      "metadata": {
        "colab": {
          "base_uri": "https://localhost:8080/"
        },
        "id": "gnBu6su_QrCd",
        "outputId": "1b4ac609-f8ff-444e-c328-b105ff62af50"
      },
      "source": [
        "# grab a pointer to the input video stream and and initialize pointer \n",
        "# to output file\n",
        "print(\"[INFO] accessing video stream...\")\n",
        "vs = cv2.VideoCapture(args[\"input\"] if args[\"input\"] else 0)\n",
        "writer = None\n",
        "\n",
        "# loop over frames from the video stream\n",
        "while True:\n",
        "\t# read a frame from the video stream\n",
        "\t(grabbed, frame) = vs.read()\n",
        "\n",
        "\t# if the frame was not grabbed then we've reached the end of\n",
        "\t# the video stream so exit the script\n",
        "\tif not grabbed:\n",
        "\t\tprint(\"[INFO] no frame read from stream - exiting\")\n",
        "\t\tbreak\n",
        "\n",
        "\t# resize the frame, convert it to grayscale, blur it, and then\n",
        "\t# perform edge detection\n",
        "\tframe = imutils.resize(frame, width=450)\n",
        "\tgray = cv2.cvtColor(frame, cv2.COLOR_BGR2GRAY)\n",
        "\tblurred = cv2.GaussianBlur(gray, (5, 5), 0)\n",
        "\tedged = cv2.Canny(blurred, 30, 150)\n",
        "\n",
        "\t# initialize the text and color to indicate that the current\n",
        "\t# frame is *not* low contrast\n",
        "\ttext = \"Low contrast: No\"\n",
        "\tcolor = (0, 255, 0)\n",
        "\n",
        "\t# check to see if the frame is low contrast, and if so, update\n",
        "\t# the text and color\n",
        "\tif is_low_contrast(gray, fraction_threshold=args[\"thresh\"]):\n",
        "\t\ttext = \"Low contrast: Yes\"\n",
        "\t\tcolor = (0, 0, 255)\n",
        "\n",
        "\t# otherwise, the frame is *not* low contrast, so we can continue\n",
        "\t# processing it\n",
        "\telse:\n",
        "\t\t# find contours in the edge map and find the largest one,\n",
        "\t\t# which we'll assume is the outline of our color correction\n",
        "\t\t# card\n",
        "\t\tcnts = cv2.findContours(edged.copy(), cv2.RETR_EXTERNAL,\n",
        "\t\t\tcv2.CHAIN_APPROX_SIMPLE)\n",
        "\t\tcnts = imutils.grab_contours(cnts)\n",
        "\t\tc = max(cnts, key=cv2.contourArea)\n",
        "\n",
        "\t\t# draw the largest contour on the frame\n",
        "\t\tcv2.drawContours(frame, [c], -1, (0, 255, 0), 2)\n",
        "\n",
        "\t# draw the text on the output frame\n",
        "\tcv2.putText(frame, text, (5, 25), cv2.FONT_HERSHEY_SIMPLEX, 0.8,\n",
        "\t\tcolor, 2)\n",
        "\n",
        "\t# stack the output frame and edge map next to each other\n",
        "\toutput = np.dstack([edged] * 3)\n",
        "\toutput = np.hstack([frame, output])\n",
        "\n",
        "    # if the video writer is None *AND* we are supposed to write\n",
        "\t# the output video to disk initialize the writer\n",
        "\tif writer is None and args[\"output\"] is not None:\n",
        "\t\tfourcc = cv2.VideoWriter_fourcc(*\"MJPG\")\n",
        "\t\twriter = cv2.VideoWriter(args[\"output\"], fourcc, 20,\n",
        "\t\t\t(output.shape[1], output.shape[0]), True)\n",
        "  \n",
        "    # if the writer is not None, write the frame to disk\n",
        "\tif writer is not None:\n",
        "\t\twriter.write(output)\n",
        "  \n",
        "# do a bit of cleanup\n",
        "vs.release()\n",
        "vs.release()\n",
        "\n",
        "# check to see if the video writer point needs to be released\n",
        "if writer is not None:\n",
        "\twriter.release()"
      ],
      "execution_count": 8,
      "outputs": [
        {
          "output_type": "stream",
          "name": "stdout",
          "text": [
            "[INFO] accessing video stream...\n",
            "[INFO] no frame read from stream - exiting\n"
          ]
        }
      ]
    },
    {
      "cell_type": "code",
      "metadata": {
        "colab": {
          "base_uri": "https://localhost:8080/"
        },
        "id": "NgcleEoYQtE4",
        "outputId": "5dab62cb-6309-4f8e-ef0e-f764bce7c4a5"
      },
      "source": [
        "!ffmpeg -i \"output.avi\" output.mp4"
      ],
      "execution_count": 9,
      "outputs": [
        {
          "output_type": "stream",
          "name": "stdout",
          "text": [
            "ffmpeg version 3.4.8-0ubuntu0.2 Copyright (c) 2000-2020 the FFmpeg developers\n",
            "  built with gcc 7 (Ubuntu 7.5.0-3ubuntu1~18.04)\n",
            "  configuration: --prefix=/usr --extra-version=0ubuntu0.2 --toolchain=hardened --libdir=/usr/lib/x86_64-linux-gnu --incdir=/usr/include/x86_64-linux-gnu --enable-gpl --disable-stripping --enable-avresample --enable-avisynth --enable-gnutls --enable-ladspa --enable-libass --enable-libbluray --enable-libbs2b --enable-libcaca --enable-libcdio --enable-libflite --enable-libfontconfig --enable-libfreetype --enable-libfribidi --enable-libgme --enable-libgsm --enable-libmp3lame --enable-libmysofa --enable-libopenjpeg --enable-libopenmpt --enable-libopus --enable-libpulse --enable-librubberband --enable-librsvg --enable-libshine --enable-libsnappy --enable-libsoxr --enable-libspeex --enable-libssh --enable-libtheora --enable-libtwolame --enable-libvorbis --enable-libvpx --enable-libwavpack --enable-libwebp --enable-libx265 --enable-libxml2 --enable-libxvid --enable-libzmq --enable-libzvbi --enable-omx --enable-openal --enable-opengl --enable-sdl2 --enable-libdc1394 --enable-libdrm --enable-libiec61883 --enable-chromaprint --enable-frei0r --enable-libopencv --enable-libx264 --enable-shared\n",
            "  libavutil      55. 78.100 / 55. 78.100\n",
            "  libavcodec     57.107.100 / 57.107.100\n",
            "  libavformat    57. 83.100 / 57. 83.100\n",
            "  libavdevice    57. 10.100 / 57. 10.100\n",
            "  libavfilter     6.107.100 /  6.107.100\n",
            "  libavresample   3.  7.  0 /  3.  7.  0\n",
            "  libswscale      4.  8.100 /  4.  8.100\n",
            "  libswresample   2.  9.100 /  2.  9.100\n",
            "  libpostproc    54.  7.100 / 54.  7.100\n",
            "Input #0, avi, from 'output.avi':\n",
            "  Metadata:\n",
            "    encoder         : Lavf58.35.100\n",
            "  Duration: 00:00:01.05, start: 0.000000, bitrate: 955 kb/s\n",
            "    Stream #0:0: Video: mjpeg (MJPG / 0x47504A4D), yuvj420p(pc, bt470bg/unknown/unknown), 900x190, 953 kb/s, 20 fps, 20 tbr, 20 tbn, 20 tbc\n",
            "Stream mapping:\n",
            "  Stream #0:0 -> #0:0 (mjpeg (native) -> h264 (libx264))\n",
            "Press [q] to stop, [?] for help\n",
            "\u001b[1;36m[libx264 @ 0x557a257f5e00] \u001b[0musing cpu capabilities: MMX2 SSE2Fast SSSE3 SSE4.2 AVX FMA3 BMI2 AVX2\n",
            "\u001b[1;36m[libx264 @ 0x557a257f5e00] \u001b[0mprofile High, level 2.1\n",
            "\u001b[1;36m[libx264 @ 0x557a257f5e00] \u001b[0m264 - core 152 r2854 e9a5903 - H.264/MPEG-4 AVC codec - Copyleft 2003-2017 - http://www.videolan.org/x264.html - options: cabac=1 ref=3 deblock=1:0:0 analyse=0x3:0x113 me=hex subme=7 psy=1 psy_rd=1.00:0.00 mixed_ref=1 me_range=16 chroma_me=1 trellis=1 8x8dct=1 cqm=0 deadzone=21,11 fast_pskip=1 chroma_qp_offset=-2 threads=3 lookahead_threads=1 sliced_threads=0 nr=0 decimate=1 interlaced=0 bluray_compat=0 constrained_intra=0 bframes=3 b_pyramid=2 b_adapt=1 b_bias=0 direct=1 weightb=1 open_gop=0 weightp=2 keyint=250 keyint_min=20 scenecut=40 intra_refresh=0 rc_lookahead=40 rc=crf mbtree=1 crf=23.0 qcomp=0.60 qpmin=0 qpmax=69 qpstep=4 ip_ratio=1.40 aq=1:1.00\n",
            "Output #0, mp4, to 'output.mp4':\n",
            "  Metadata:\n",
            "    encoder         : Lavf57.83.100\n",
            "    Stream #0:0: Video: h264 (libx264) (avc1 / 0x31637661), yuvj420p(pc), 900x190, q=-1--1, 20 fps, 10240 tbn, 20 tbc\n",
            "    Metadata:\n",
            "      encoder         : Lavc57.107.100 libx264\n",
            "    Side data:\n",
            "      cpb: bitrate max/min/avg: 0/0/0 buffer size: 0 vbv_delay: -1\n",
            "frame=   21 fps=0.0 q=-1.0 Lsize=      14kB time=00:00:00.90 bitrate= 130.8kbits/s speed=3.63x    \n",
            "video:13kB audio:0kB subtitle:0kB other streams:0kB global headers:0kB muxing overhead: 7.864263%\n",
            "\u001b[1;36m[libx264 @ 0x557a257f5e00] \u001b[0mframe I:1     Avg QP:10.63  size:  2510\n",
            "\u001b[1;36m[libx264 @ 0x557a257f5e00] \u001b[0mframe P:8     Avg QP:22.58  size:   991\n",
            "\u001b[1;36m[libx264 @ 0x557a257f5e00] \u001b[0mframe B:12    Avg QP:26.34  size:   210\n",
            "\u001b[1;36m[libx264 @ 0x557a257f5e00] \u001b[0mconsecutive B-frames: 23.8%  0.0%  0.0% 76.2%\n",
            "\u001b[1;36m[libx264 @ 0x557a257f5e00] \u001b[0mmb I  I16..4:  1.3% 94.4%  4.2%\n",
            "\u001b[1;36m[libx264 @ 0x557a257f5e00] \u001b[0mmb P  I16..4:  4.2% 12.6%  0.2%  P16..4:  7.4%  1.0%  0.3%  0.0%  0.0%    skip:74.2%\n",
            "\u001b[1;36m[libx264 @ 0x557a257f5e00] \u001b[0mmb B  I16..4:  0.7%  2.3%  0.0%  B16..8:  3.7%  0.3%  0.2%  direct: 1.2%  skip:91.7%  L0:74.6% L1:16.8% BI: 8.5%\n",
            "\u001b[1;36m[libx264 @ 0x557a257f5e00] \u001b[0m8x8 transform intra:81.8% inter:78.5%\n",
            "\u001b[1;36m[libx264 @ 0x557a257f5e00] \u001b[0mcoded y,uvDC,uvAC intra: 26.0% 26.2% 2.9% inter: 2.4% 1.4% 0.1%\n",
            "\u001b[1;36m[libx264 @ 0x557a257f5e00] \u001b[0mi16 v,h,dc,p: 12% 61% 13% 13%\n",
            "\u001b[1;36m[libx264 @ 0x557a257f5e00] \u001b[0mi8 v,h,dc,ddl,ddr,vr,hd,vl,hu: 41% 34% 21%  1%  0%  0%  1%  0%  1%\n",
            "\u001b[1;36m[libx264 @ 0x557a257f5e00] \u001b[0mi4 v,h,dc,ddl,ddr,vr,hd,vl,hu: 26% 19% 29%  3%  4%  4%  6%  3%  6%\n",
            "\u001b[1;36m[libx264 @ 0x557a257f5e00] \u001b[0mi8c dc,h,v,p: 65% 26%  7%  1%\n",
            "\u001b[1;36m[libx264 @ 0x557a257f5e00] \u001b[0mWeighted P-Frames: Y:25.0% UV:0.0%\n",
            "\u001b[1;36m[libx264 @ 0x557a257f5e00] \u001b[0mref P L0: 83.4%  5.5%  8.2%  2.1%  0.8%\n",
            "\u001b[1;36m[libx264 @ 0x557a257f5e00] \u001b[0mref B L0: 84.6% 13.3%  2.1%\n",
            "\u001b[1;36m[libx264 @ 0x557a257f5e00] \u001b[0mref B L1: 98.5%  1.5%\n",
            "\u001b[1;36m[libx264 @ 0x557a257f5e00] \u001b[0mkb/s:98.70\n"
          ]
        }
      ]
    },
    {
      "cell_type": "code",
      "metadata": {
        "colab": {
          "base_uri": "https://localhost:8080/",
          "height": 168
        },
        "id": "fELAFzwzQtk1",
        "outputId": "693f76f1-2de1-46d3-8b08-c6eafa1dc357"
      },
      "source": [
        "#@title Display video inline\n",
        "from IPython.display import HTML\n",
        "from base64 import b64encode\n",
        "\n",
        "mp4 = open(\"output.mp4\", \"rb\").read()\n",
        "dataURL = \"data:video/mp4;base64,\" + b64encode(mp4).decode()\n",
        "HTML(\"\"\"\n",
        "<video width=700 controls>\n",
        "      <source src=\"%s\" type=\"video/mp4\">\n",
        "</video>\n",
        "\"\"\" % dataURL)"
      ],
      "execution_count": 10,
      "outputs": [
        {
          "output_type": "execute_result",
          "data": {
            "text/html": [
              "\n",
              "<video width=700 controls>\n",
              "      <source src=\"data:video/mp4;base64,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\" type=\"video/mp4\">\n",
              "</video>\n"
            ],
            "text/plain": [
              "<IPython.core.display.HTML object>"
            ]
          },
          "metadata": {},
          "execution_count": 10
        }
      ]
    }
  ]
}